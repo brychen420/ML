{
 "cells": [
  {
   "cell_type": "code",
   "execution_count": 6,
   "metadata": {},
   "outputs": [],
   "source": [
    "import numpy as np\n",
    "import pandas as pd\n",
    "\n",
    "import torch\n",
    "import torch.nn as nn\n",
    "from torch.utils.data import Dataset, DataLoader\n",
    "\n",
    "from sklearn.impute import SimpleImputer\n",
    "from sklearn.preprocessing import StandardScaler"
   ]
  },
  {
   "cell_type": "code",
   "execution_count": 7,
   "metadata": {},
   "outputs": [],
   "source": [
    "PATH = 'data/'\n",
    "device = 'cpu'\n",
    "test_df = pd.read_csv(PATH+'test.csv')"
   ]
  },
  {
   "cell_type": "code",
   "execution_count": 8,
   "metadata": {},
   "outputs": [],
   "source": [
    "test_df['miss_m3'] = test_df['measurement_3'].isna()\n",
    "test_df['miss_m5'] = test_df['measurement_5'].isna()"
   ]
  },
  {
   "cell_type": "code",
   "execution_count": 9,
   "metadata": {},
   "outputs": [],
   "source": [
    "mat_list = ['material_5', 'material_6', 'material_7', 'material_8']\n",
    "test_df['attribute_0'] = [mat_list.index(item) for item in test_df['attribute_0']]\n",
    "test_df['attribute_1'] = [mat_list.index(item) for item in test_df['attribute_1']]"
   ]
  },
  {
   "cell_type": "code",
   "execution_count": 10,
   "metadata": {},
   "outputs": [],
   "source": [
    "missing_cols = test_df.columns[test_df.isna().sum(0) > 0]\n",
    "imputer = SimpleImputer(strategy='mean')\n",
    "test_df[missing_cols] = imputer.fit_transform(test_df[missing_cols])"
   ]
  },
  {
   "cell_type": "code",
   "execution_count": 11,
   "metadata": {},
   "outputs": [],
   "source": [
    "test_df['area'] = test_df['attribute_2'] * test_df['attribute_3']"
   ]
  },
  {
   "cell_type": "code",
   "execution_count": 12,
   "metadata": {},
   "outputs": [],
   "source": [
    "measure_list = list(test_df.iloc[:,10:24].columns)\n",
    "test_df['measurement_sum'] = test_df[measure_list].sum(axis=1)\n",
    "test_df['measurement_std'] = test_df[measure_list].std(axis=1)"
   ]
  },
  {
   "cell_type": "code",
   "execution_count": 13,
   "metadata": {},
   "outputs": [],
   "source": [
    "target_list = ['loading', 'attribute_0', 'attribute_1', 'area', 'measurement_17', 'measurement_sum', 'measurement_std', 'miss_m3', 'miss_m5']\n",
    "X_test = test_df[target_list].values"
   ]
  },
  {
   "cell_type": "code",
   "execution_count": 14,
   "metadata": {},
   "outputs": [],
   "source": [
    "sc = StandardScaler()\n",
    "X_test = sc.fit_transform(X_test)"
   ]
  },
  {
   "cell_type": "code",
   "execution_count": 15,
   "metadata": {},
   "outputs": [],
   "source": [
    "class TestData(Dataset):\n",
    "    def __init__(self, X_data):\n",
    "        self.X_data = X_data\n",
    "        \n",
    "    def __getitem__(self, index):\n",
    "        return self.X_data[index]\n",
    "        \n",
    "    def __len__ (self):\n",
    "        return len(self.X_data)"
   ]
  },
  {
   "cell_type": "code",
   "execution_count": 16,
   "metadata": {},
   "outputs": [],
   "source": [
    "test_ds = TestData(torch.FloatTensor(X_test))\n",
    "test_dl = DataLoader(dataset=test_ds, batch_size=1)"
   ]
  },
  {
   "cell_type": "code",
   "execution_count": 17,
   "metadata": {},
   "outputs": [],
   "source": [
    "class Model(nn.Module):\n",
    "    def __init__(self):\n",
    "        super(Model, self).__init__()\n",
    "        self.layers = nn.Sequential(\n",
    "            nn.Linear(9, 32),\n",
    "            nn.ReLU(),\n",
    "            nn.BatchNorm1d(32),\n",
    "            nn.Dropout(p=0.25),\n",
    "            nn.Linear(32, 32),\n",
    "            nn.ReLU(),\n",
    "            nn.BatchNorm1d(32),\n",
    "            nn.Dropout(p=0.25),\n",
    "            nn.Linear(32, 2),\n",
    "            nn.Softmax(dim=1)\n",
    "        )\n",
    "        \n",
    "    def forward(self, x):\n",
    "        return self.layers(x)"
   ]
  },
  {
   "cell_type": "code",
   "execution_count": 18,
   "metadata": {},
   "outputs": [],
   "source": [
    "# Load model\n",
    "model = Model().to(device)\n",
    "model.load_state_dict(torch.load(\"/model\"))\n",
    "\n",
    "y_pred_list = []\n",
    "model.eval()\n",
    "with torch.no_grad():\n",
    "    for X_batch in test_dl:\n",
    "        X_batch = X_batch.to(device)\n",
    "        \n",
    "        pred = model(X_batch)\n",
    "        \n",
    "        # pred[:, 0]        # Probability of success\n",
    "        result = pred[:, 1] # Probability of failure\n",
    "        \n",
    "        y_pred_list.append(result.cpu().numpy())\n",
    "        \n",
    "y_pred_list = np.array([a.squeeze().tolist() for a in y_pred_list], dtype=np.float32)\n",
    "round_y = np.around(y_pred_list, 4)\n",
    "result = [[26570+i, y] for i, y in enumerate(round_y)]\n",
    "\n",
    "# Output to csv\n",
    "df = pd.DataFrame(result, columns=[\"id\", \"failure\"])\n",
    "df.to_csv('0816077.csv', index=False)"
   ]
  }
 ],
 "metadata": {
  "kernelspec": {
   "display_name": "Python 3",
   "language": "python",
   "name": "python3"
  },
  "language_info": {
   "codemirror_mode": {
    "name": "ipython",
    "version": 3
   },
   "file_extension": ".py",
   "mimetype": "text/x-python",
   "name": "python",
   "nbconvert_exporter": "python",
   "pygments_lexer": "ipython3",
   "version": "3.10.4"
  },
  "orig_nbformat": 4,
  "vscode": {
   "interpreter": {
    "hash": "478a92dbe663cce7c3fa41c61c54289e8c18324b2087979ba9b3d34363863902"
   }
  }
 },
 "nbformat": 4,
 "nbformat_minor": 2
}
